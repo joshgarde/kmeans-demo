{
  "nbformat": 4,
  "nbformat_minor": 0,
  "metadata": {
    "colab": {
      "name": "Seeds.ipynb",
      "provenance": [],
      "collapsed_sections": [],
      "mount_file_id": "12FNWU9MLXWCXjrz5ak37whnKlqFiSRJj",
      "authorship_tag": "ABX9TyPfGeeTdzT3nCe+S+p0qxXH"
    },
    "kernelspec": {
      "name": "python3",
      "display_name": "Python 3"
    },
    "language_info": {
      "name": "python"
    }
  },
  "cells": [
    {
      "cell_type": "code",
      "metadata": {
        "id": "ntCvachtVOtz"
      },
      "source": [
        "import matplotlib.pyplot as plt\n",
        "import numpy as np\n",
        "import pandas as pd\n",
        "import math"
      ],
      "execution_count": 6,
      "outputs": []
    },
    {
      "cell_type": "code",
      "metadata": {
        "colab": {
          "base_uri": "https://localhost:8080/",
          "height": 238
        },
        "id": "31NdyfluXBOe",
        "outputId": "fbbac871-1f86-4280-c613-8c1e8ad9dd99"
      },
      "source": [
        "df = pd.read_csv('/content/drive/MyDrive/Colab Notebooks/K-Means Algo/seeds_dataset.txt', sep=',', header=None, index_col=False)\n",
        "df.index = [x for x in range(len(df.values))]\n",
        "df.index.name = 'id'\n",
        "df.head()"
      ],
      "execution_count": 18,
      "outputs": [
        {
          "output_type": "execute_result",
          "data": {
            "text/html": [
              "<div>\n",
              "<style scoped>\n",
              "    .dataframe tbody tr th:only-of-type {\n",
              "        vertical-align: middle;\n",
              "    }\n",
              "\n",
              "    .dataframe tbody tr th {\n",
              "        vertical-align: top;\n",
              "    }\n",
              "\n",
              "    .dataframe thead th {\n",
              "        text-align: right;\n",
              "    }\n",
              "</style>\n",
              "<table border=\"1\" class=\"dataframe\">\n",
              "  <thead>\n",
              "    <tr style=\"text-align: right;\">\n",
              "      <th></th>\n",
              "      <th>0</th>\n",
              "      <th>1</th>\n",
              "      <th>2</th>\n",
              "      <th>3</th>\n",
              "      <th>4</th>\n",
              "      <th>5</th>\n",
              "      <th>6</th>\n",
              "      <th>7</th>\n",
              "    </tr>\n",
              "    <tr>\n",
              "      <th>id</th>\n",
              "      <th></th>\n",
              "      <th></th>\n",
              "      <th></th>\n",
              "      <th></th>\n",
              "      <th></th>\n",
              "      <th></th>\n",
              "      <th></th>\n",
              "      <th></th>\n",
              "    </tr>\n",
              "  </thead>\n",
              "  <tbody>\n",
              "    <tr>\n",
              "      <th>0</th>\n",
              "      <td>15.26</td>\n",
              "      <td>14.84</td>\n",
              "      <td>0.8710</td>\n",
              "      <td>5.763</td>\n",
              "      <td>3.312</td>\n",
              "      <td>2.221</td>\n",
              "      <td>5.220</td>\n",
              "      <td>1</td>\n",
              "    </tr>\n",
              "    <tr>\n",
              "      <th>1</th>\n",
              "      <td>14.88</td>\n",
              "      <td>14.57</td>\n",
              "      <td>0.8811</td>\n",
              "      <td>5.554</td>\n",
              "      <td>3.333</td>\n",
              "      <td>1.018</td>\n",
              "      <td>4.956</td>\n",
              "      <td>1</td>\n",
              "    </tr>\n",
              "    <tr>\n",
              "      <th>2</th>\n",
              "      <td>14.29</td>\n",
              "      <td>14.09</td>\n",
              "      <td>0.9050</td>\n",
              "      <td>5.291</td>\n",
              "      <td>3.337</td>\n",
              "      <td>2.699</td>\n",
              "      <td>4.825</td>\n",
              "      <td>1</td>\n",
              "    </tr>\n",
              "    <tr>\n",
              "      <th>3</th>\n",
              "      <td>13.84</td>\n",
              "      <td>13.94</td>\n",
              "      <td>0.8955</td>\n",
              "      <td>5.324</td>\n",
              "      <td>3.379</td>\n",
              "      <td>2.259</td>\n",
              "      <td>4.805</td>\n",
              "      <td>1</td>\n",
              "    </tr>\n",
              "    <tr>\n",
              "      <th>4</th>\n",
              "      <td>16.14</td>\n",
              "      <td>14.99</td>\n",
              "      <td>0.9034</td>\n",
              "      <td>5.658</td>\n",
              "      <td>3.562</td>\n",
              "      <td>1.355</td>\n",
              "      <td>5.175</td>\n",
              "      <td>1</td>\n",
              "    </tr>\n",
              "  </tbody>\n",
              "</table>\n",
              "</div>"
            ],
            "text/plain": [
              "        0      1       2      3      4      5      6  7\n",
              "id                                                     \n",
              "0   15.26  14.84  0.8710  5.763  3.312  2.221  5.220  1\n",
              "1   14.88  14.57  0.8811  5.554  3.333  1.018  4.956  1\n",
              "2   14.29  14.09  0.9050  5.291  3.337  2.699  4.825  1\n",
              "3   13.84  13.94  0.8955  5.324  3.379  2.259  4.805  1\n",
              "4   16.14  14.99  0.9034  5.658  3.562  1.355  5.175  1"
            ]
          },
          "metadata": {
            "tags": []
          },
          "execution_count": 18
        }
      ]
    },
    {
      "cell_type": "code",
      "metadata": {
        "id": "65VRmCKgXb9m"
      },
      "source": [
        "# Create our training and test data\n",
        "x_train = df[:80].copy()\n",
        "x_train.reset_index(inplace=True)\n",
        "x_train.drop(columns=['id', 7], inplace=True)\n",
        "\n",
        "x_train = x_train.to_numpy()\n",
        "\n",
        "x_test = df[80:].copy()\n",
        "y_test = df[80:].copy()\n",
        "x_test.reset_index(inplace=True)\n",
        "y_test.reset_index(inplace=True)\n",
        "x_test.drop(columns=['id', 7], inplace=True)\n",
        "y_test.drop(columns=['id', 0, 1, 2, 3, 4, 5, 6], inplace=True)"
      ],
      "execution_count": 51,
      "outputs": []
    },
    {
      "cell_type": "code",
      "metadata": {
        "id": "KElJ8iqtcb7F"
      },
      "source": [
        "def calc_centeroids(x, k, labels):\n",
        "  centeroids = np.zeros((k, x.shape[1]))\n",
        "\n",
        "  for i in range(k):\n",
        "    centeroids[i] = x[labels == i].mean(axis=0)\n",
        "\n",
        "  return centeroids\n",
        "\n",
        "def calc_labels(x, k, centeroids):\n",
        "  labels = np.zeros(x.shape[0])\n",
        "  distances = np.zeros(k)\n",
        "\n",
        "  for i in range(x.shape[0]):\n",
        "    for j in range(k):\n",
        "      distances[j] = np.sqrt(np.square(x[i] - centeroids[j]).sum())\n",
        "\n",
        "    labels[i] = distances.argmin()\n",
        "\n",
        "  return labels"
      ],
      "execution_count": 54,
      "outputs": []
    },
    {
      "cell_type": "code",
      "metadata": {
        "colab": {
          "base_uri": "https://localhost:8080/"
        },
        "id": "pQEc0J56cq3x",
        "outputId": "35ee6732-4dd9-4ccb-f513-a758c0ecd877"
      },
      "source": [
        "MAX_ITERATIONS = 20\n",
        "\n",
        "def kmeans(x, k):\n",
        "  centeroids = x[np.random.choice(x.shape[0], size=k)] # Utilizing Forgy initialization\n",
        "  prev_centeroids = None\n",
        "  i = 0\n",
        "\n",
        "  print(\"Initial centeroids:\\n{}\\n\".format(centeroids))\n",
        "\n",
        "  while i < MAX_ITERATIONS and not np.array_equal(prev_centeroids, centeroids):\n",
        "    prev_centeroids = centeroids\n",
        "\n",
        "    labels = calc_labels(x, k, centeroids)\n",
        "    centeroids = calc_centeroids(x, k, labels)\n",
        "\n",
        "    print(\"Iteration {} centeroids:\\n{}\\n\".format(i, centeroids))\n",
        "    i += 1\n",
        "\n",
        "kmeans(x_train, 3)"
      ],
      "execution_count": 57,
      "outputs": [
        {
          "output_type": "stream",
          "text": [
            "Initial centeroids:\n",
            "[[14.88   14.57    0.8811  5.554   3.333   1.018   4.956 ]\n",
            " [15.5    14.86    0.882   5.877   3.396   4.711   5.528 ]\n",
            " [20.71   17.23    0.8763  6.579   3.814   4.451   6.451 ]]\n",
            "\n",
            "Iteration 0 centeroids:\n",
            "[[14.21458333 14.23125     0.88021875  5.48208333  3.23122917  2.06550417\n",
            "   5.0515625 ]\n",
            " [15.20241379 14.74034483  0.87764828  5.67065517  3.32955172  4.0162069\n",
            "   5.33317241]\n",
            " [19.58666667 16.66        0.88646667  6.39266667  3.79433333  4.15033333\n",
            "   6.29733333]]\n",
            "\n",
            "Iteration 1 centeroids:\n",
            "[[14.00020833 14.14020833  0.8783875   5.451       3.20083333  2.16731667\n",
            "   5.01458333]\n",
            " [15.41518519 14.81296296  0.88194444  5.69207407  3.3722963   3.84011111\n",
            "   5.35018519]\n",
            " [18.742      16.374       0.87732     6.2866      3.6694      4.0702\n",
            "   6.1748    ]]\n",
            "\n",
            "Iteration 2 centeroids:\n",
            "[[13.98921569 14.13470588  0.87846471  5.45070588  3.19819608  2.26474902\n",
            "   5.01470588]\n",
            " [15.54391304 14.87304348  0.88248261  5.71173913  3.39086957  3.81186957\n",
            "   5.37452174]\n",
            " [18.495      16.26666667  0.87715     6.23516667  3.65683333  4.14833333\n",
            "   6.11083333]]\n",
            "\n",
            "Iteration 3 centeroids:\n",
            "[[13.98921569 14.13470588  0.87846471  5.45070588  3.19819608  2.26474902\n",
            "   5.01470588]\n",
            " [15.54391304 14.87304348  0.88248261  5.71173913  3.39086957  3.81186957\n",
            "   5.37452174]\n",
            " [18.495      16.26666667  0.87715     6.23516667  3.65683333  4.14833333\n",
            "   6.11083333]]\n",
            "\n"
          ],
          "name": "stdout"
        }
      ]
    }
  ]
}